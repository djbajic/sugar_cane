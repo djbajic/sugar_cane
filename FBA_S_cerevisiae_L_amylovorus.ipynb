{
 "cells": [
  {
   "cell_type": "markdown",
   "metadata": {
    "ExecuteTime": {
     "end_time": "2018-11-28T19:34:25.341324Z",
     "start_time": "2018-11-28T19:34:25.318024Z"
    }
   },
   "source": [
    "# Setting the environment"
   ]
  },
  {
   "cell_type": "code",
   "execution_count": null,
   "metadata": {},
   "outputs": [],
   "source": [
    "from __future__ import print_function\n",
    "import cobra\n",
    "import pandas as pd\n",
    "import cobra.test\n",
    "from os.path import join\n",
    "from cobra import Model, Reaction, Metabolite"
   ]
  },
  {
   "cell_type": "markdown",
   "metadata": {},
   "source": [
    "# Load the Data"
   ]
  },
  {
   "cell_type": "code",
   "execution_count": 2,
   "metadata": {},
   "outputs": [],
   "source": [
    "import sys\n",
    "sys.path.append('../')"
   ]
  },
  {
   "cell_type": "code",
   "execution_count": 9,
   "metadata": {
    "ExecuteTime": {
     "end_time": "2018-11-28T21:22:02.510741Z",
     "start_time": "2018-11-28T21:22:00.899456Z"
    }
   },
   "outputs": [
    {
     "name": "stdout",
     "output_type": "stream",
     "text": [
      "IN FLUXES          OUT FLUXES        OBJECTIVES\n",
      "-----------------  ----------------  ----------------------\n",
      "glc__D_e  10       co2_e   18        BIOMASS_SC5_...  0.288\n",
      "o2_e       2       etoh_e  15.8\n",
      "nh4_e      1.61    h2o_e    5.64\n",
      "pi_e       0.0569  h_e      1.45\n",
      "so4_e      0.0223  for_e    0.00149\n"
     ]
    }
   ],
   "source": [
    "### For yeast model ###\n",
    "\n",
    "model_yeast = cobra.io.read_sbml_model('../Models/iMM904.xml.gz')\n",
    "model_yeast.optimize()\n",
    "model_yeast.summary()\n",
    "\n"
   ]
  },
  {
   "cell_type": "code",
   "execution_count": 7,
   "metadata": {
    "ExecuteTime": {
     "end_time": "2018-11-28T21:22:02.510741Z",
     "start_time": "2018-11-28T21:22:00.899456Z"
    }
   },
   "outputs": [
    {
     "name": "stdout",
     "output_type": "stream",
     "text": [
      "IN FLUXES              OUT FLUXES           OBJECTIVES\n",
      "---------------------  -------------------  ------------\n",
      "arg__L_e    980        co2_e       1e+03    Growth  33.1\n",
      "h_e         979        orn_e     963\n",
      "h2o_e       939        ala__D_e  952\n",
      "arab__L_e   555        nh4_e     935\n",
      "lac__L_e    496        abt__L_e  555\n",
      "cellb_e     237        pyr_e     518\n",
      "man1p_e      45.1      acald_e     1.01\n",
      "thr__L_e     27        glyclt_e    0.00718\n",
      "fum_e        24.6\n",
      "glyc_e       20.4\n",
      "leu__L_e     14.8\n",
      "val__L_e     13.7\n",
      "lys__L_e     11\n",
      "ser__L_e     10.8\n",
      "ura_e        10.6\n",
      "ile__L_e     10\n",
      "gln__L_e      8.49\n",
      "gua_e         7.79\n",
      "gal_e         6.6\n",
      "adn_e         6.57\n",
      "k_e           6.28\n",
      "phe__L_e      5.96\n",
      "metox_e       4.95\n",
      "gam_e         4.7\n",
      "tyr__L_e      4.44\n",
      "o2_e          4.22\n",
      "his__L_e      3.05\n",
      "h2s_e         2.97\n",
      "id3acald_e    1.83\n",
      "mg2_e         0.279\n",
      "fe3_e         0.251\n",
      "fe2_e         0.216\n",
      "ca2_e         0.167\n",
      "cl_e          0.167\n",
      "so4_e         0.14\n",
      "nmn_e         0.0733\n",
      "cu2_e         0.0228\n",
      "mn2_e         0.0222\n",
      "fol_e         0.0215\n",
      "ala_B_e       0.0185\n",
      "ribflv_e      0.0144\n",
      "zn2_e         0.011\n",
      "bz_e          0.00322\n",
      "cobalt2_e     0.00322\n",
      "thym_e        0.00322\n"
     ]
    }
   ],
   "source": [
    "### For L. amylovorus model ###\n",
    "\n",
    "model_bac = cobra.io.read_sbml_model('../Models/lamylovorus_30SC.xml.gz')\n",
    "model_bac.optimize()\n",
    "model_bac.summary()\n",
    "\n"
   ]
  },
  {
   "cell_type": "markdown",
   "metadata": {},
   "source": [
    "# Perform FBA with anaerobic minimal glucose"
   ]
  },
  {
   "cell_type": "code",
   "execution_count": 4,
   "metadata": {},
   "outputs": [
    {
     "name": "stdout",
     "output_type": "stream",
     "text": [
      "IN FLUXES            OUT FLUXES     OBJECTIVES\n",
      "-------------------  -------------  ----------------------\n",
      "fru_e     10         etoh_e  66.3   BIOMASS_SC5_...  0.872\n",
      "glc__D_e  10         co2_e   65.3\n",
      "sucr_e    10         h_e      9.98\n",
      "nh4_e      4.88      succ_e   2.81\n",
      "pi_e       0.172     h2o_e    2.19\n",
      "so4_e      0.0674\n",
      "ocdcea_e   0.0117\n",
      "hdcea_e    0.0083\n",
      "ocdcya_e   0.0044\n",
      "ocdca_e    0.00244\n",
      "zymst_e    0.00131\n",
      "ergst_e    0.000611\n"
     ]
    }
   ],
   "source": [
    "#Yeast in minimal media with glucose and fructose#\n",
    "\n",
    "ions = ['EX_' + x for x in ['ca2_e', 'cl_e','cobalt2_e','cu2_e','fe2_e','fe3_e','h_e',\n",
    "              'h2o_e','k_e','mg2_e','mn2_e','mobd_e','na1_e','tungs_e','zn2_e','co2_e'\n",
    "              'ni2_e','sel_e','slnt_e','so4_e','nh4_e','pi_e','cbl1_e','nh4_e','h2_e','glc__D_e', 'fru_e', 'sucr_e',\n",
    "                                   'ergst_e', #ergosterol\n",
    "                            'zymst_e', #zymosterol       \n",
    "                            'hdcea_e', #Palmitolate\n",
    "                                   'ocdca_e', #Steareate/octadecanoate\n",
    "                                   'ocdcea_e', #Oleate /octadecenoate\n",
    "                                   'ocdcya_e' #lineolite /Octadecadienoate \n",
    "                           ]]\n",
    "exchange_reactions = [x.id for x in model_yeast.reactions if 'EX_' in x.id]\n",
    "#SET the minimal media\n",
    "for i in exchange_reactions:\n",
    "    if i in ions:\n",
    "        model_yeast.reactions.get_by_id(i).lower_bound =-1000.0\n",
    "    else:\n",
    "        model_yeast.reactions.get_by_id(i).lower_bound =-0.0\n",
    "    \n",
    "model_yeast.reactions.EX_o2_e.lower_bound=-0.00\n",
    "model_yeast.reactions.EX_glc__D_e.lower_bound=-10\n",
    "model_yeast.reactions.EX_fru_e.lower_bound=-10\n",
    "model_yeast.reactions.EX_sucr_e.lower_bound=-10\n",
    "model_yeast.optimize()\n",
    "model_yeast.summary()\n",
    "\n"
   ]
  },
  {
   "cell_type": "code",
   "execution_count": 8,
   "metadata": {},
   "outputs": [
    {
     "name": "stdout",
     "output_type": "stream",
     "text": [
      "IN FLUXES             OUT FLUXES           OBJECTIVES\n",
      "--------------------  -------------------  -------------\n",
      "fru_e      10         h_e       70.6       Growth  0.792\n",
      "glc__D_e   10         lac__D_e  64.4\n",
      "sucr_e     10         h2o_e     14.5\n",
      "nh4_e       8.28      acald_e    5.26\n",
      "pi_e        1.08      co2_e      4.02\n",
      "so4_e       0.193     pdima_e    0.0256\n",
      "k_e         0.15      glyclt_e   0.000686\n",
      "mg2_e       0.00667\n",
      "fe3_e       0.006\n",
      "fe2_e       0.00516\n",
      "ca2_e       0.004\n",
      "cl_e        0.004\n",
      "cu2_e       0.000545\n",
      "mn2_e       0.000531\n",
      "zn2_e       0.000262\n",
      "cobalt2_e   7.69e-05\n"
     ]
    }
   ],
   "source": [
    "#L. amylovorus in minimal media with glucose and fructose#\n",
    "\n",
    "ions = ['EX_' + x for x in ['ca2_e', 'cl_e','cobalt2_e','cu2_e','fe2_e','fe3_e','h_e',\n",
    "              'h2o_e','k_e','mg2_e','mn2_e','mobd_e','na1_e','tungs_e','zn2_e','co2_e'\n",
    "              'ni2_e','sel_e','slnt_e','so4_e','nh4_e','pi_e','cbl1_e','nh4_e','h2_e','glc__D_e', 'fru_e', 'sucr_e',\n",
    "                                   'ergst_e', #ergosterol\n",
    "                            'zymst_e', #zymosterol       \n",
    "                            'hdcea_e', #Palmitolate\n",
    "                                   'ocdca_e', #Steareate/octadecanoate\n",
    "                                   'ocdcea_e', #Oleate /octadecenoate\n",
    "                                   'ocdcya_e' #lineolite /Octadecadienoate \n",
    "                           ]]\n",
    "exchange_reactions = [x.id for x in model_bac.reactions if 'EX_' in x.id]\n",
    "#SET the minimal media\n",
    "for i in exchange_reactions:\n",
    "    if i in ions:\n",
    "        model_bac.reactions.get_by_id(i).lower_bound =-1000.0\n",
    "    else:\n",
    "        model_bac.reactions.get_by_id(i).lower_bound =-0.0\n",
    "    \n",
    "model_bac.reactions.EX_o2_e.lower_bound=-0.00\n",
    "model_bac.reactions.EX_glc__D_e.lower_bound=-10\n",
    "model_bac.reactions.EX_fru_e.lower_bound=-10\n",
    "model_bac.reactions.EX_sucr_e.lower_bound=-10\n",
    "model_bac.optimize()\n",
    "model_bac.summary()\n",
    "\n"
   ]
  },
  {
   "cell_type": "code",
   "execution_count": 10,
   "metadata": {},
   "outputs": [
    {
     "name": "stdout",
     "output_type": "stream",
     "text": [
      "IN FLUXES            OUT FLUXES        OBJECTIVES\n",
      "-------------------  ----------------  ----------------------\n",
      "fru_e     10         etoh_e  73.2      BIOMASS_SC5_...  0.926\n",
      "glc__D_e  10         co2_e   71\n",
      "sucr_e    10         h_e      4.84\n",
      "acald_e    5.26      succ_e   0.102\n",
      "nh4_e      5.18      for_e    0.00275\n",
      "h2o_e      1.13\n",
      "pi_e       0.183\n",
      "so4_e      0.0716\n",
      "ocdcea_e   0.0124\n",
      "hdcea_e    0.00882\n",
      "ocdcya_e   0.00467\n",
      "ocdca_e    0.00259\n",
      "zymst_e    0.00139\n",
      "ergst_e    0.000648\n"
     ]
    }
   ],
   "source": [
    "#Yeast in minimal media with sucrose, glucose and fructose and with L. amylovorus supernatant#\n",
    "\n",
    "ions = ['EX_' + x for x in ['ca2_e', 'cl_e','cobalt2_e','cu2_e','fe2_e','fe3_e','h_e',\n",
    "              'h2o_e','k_e','mg2_e','mn2_e','mobd_e','na1_e','tungs_e','zn2_e','co2_e'\n",
    "              'ni2_e','sel_e','slnt_e','so4_e','nh4_e','pi_e','cbl1_e','nh4_e','h2_e','glc__D_e', 'fru_e', 'sucr_e',\n",
    "                                   'ergst_e', #ergosterol\n",
    "                            'zymst_e', #zymosterol       \n",
    "                            'hdcea_e', #Palmitolate\n",
    "                                   'ocdca_e', #Steareate/octadecanoate\n",
    "                                   'ocdcea_e', #Oleate /octadecenoate\n",
    "                                   'ocdcya_e', #lineolite /Octadecadienoate \n",
    "                         \n",
    "                 ##L. amylovorus metabolites\n",
    "                            'lac__D_e',\n",
    "                            'acald_e',\n",
    "                            'pdima_e',\n",
    "                            'glyclt_e',\n",
    "                           \n",
    "                           \n",
    "                           \n",
    "                           ]]\n",
    "exchange_reactions = [x.id for x in model_yeast.reactions if 'EX_' in x.id]\n",
    "#SET the minimal media\n",
    "for i in exchange_reactions:\n",
    "    if i in ions:\n",
    "        model_yeast.reactions.get_by_id(i).lower_bound =-1000.0\n",
    "    else:\n",
    "        model_yeast.reactions.get_by_id(i).lower_bound =-0.0\n",
    "    \n",
    "model_yeast.reactions.EX_o2_e.lower_bound=-0.00\n",
    "model_yeast.reactions.EX_glc__D_e.lower_bound=-10\n",
    "model_yeast.reactions.EX_fru_e.lower_bound=-10\n",
    "model_yeast.reactions.EX_sucr_e.lower_bound=-10\n",
    "\n",
    "#L. amylovorus metabolite exchange\n",
    "model_yeast.reactions.EX_lac__D_e.lower_bound= -64.4\n",
    "model_yeast.reactions.EX_acald_e.lower_bound=-5.26\n",
    "#pdima - yeast model does not metabolize\n",
    "#glyclt - yeast model does not metabolize\n",
    "\n",
    "model_yeast.optimize()\n",
    "model_yeast.summary()"
   ]
  },
  {
   "cell_type": "markdown",
   "metadata": {},
   "source": [
    "# Investigating acetaldehyde flux within yeast"
   ]
  },
  {
   "cell_type": "code",
   "execution_count": 11,
   "metadata": {},
   "outputs": [
    {
     "name": "stdout",
     "output_type": "stream",
     "text": [
      "PRODUCING REACTIONS -- Acetaldehyde (acald_c)\n",
      "---------------------------------------------\n",
      "%      FLUX  RXN ID    REACTION\n",
      "---  ------  --------  -----------------------------------------\n",
      "93%   68.3   PYRDC     h_c + pyr_c --> acald_c + co2_c\n",
      "7%     5.26  ACALDt    acald_e <=> acald_c\n",
      "\n",
      "CONSUMING REACTIONS -- Acetaldehyde (acald_c)\n",
      "---------------------------------------------\n",
      "%      FLUX  RXN ID    REACTION\n",
      "---  ------  --------  -----------------------------------------\n",
      "97%   71.5   ALCD2ir   acald_c + h_c + nadh_c --> etoh_c + nad_c\n",
      "2%     1.72  ACALDtm   acald_m <=> acald_c\n"
     ]
    }
   ],
   "source": [
    "model_yeast.metabolites.acald_c.summary()"
   ]
  },
  {
   "cell_type": "markdown",
   "metadata": {},
   "source": [
    "# Most of the acetaldehyde is reduced into ethanol via alcohol dehydrogenase mediated reaction "
   ]
  },
  {
   "cell_type": "code",
   "execution_count": 12,
   "metadata": {},
   "outputs": [
    {
     "data": {
      "text/html": [
       "\n",
       "        <table>\n",
       "            <tr>\n",
       "                <td><strong>Reaction identifier</strong></td><td>ALCD2ir</td>\n",
       "            </tr><tr>\n",
       "                <td><strong>Name</strong></td><td>Alcohol dehydrogenase  reverse rxn  acetaldehyde   ethanol </td>\n",
       "            </tr><tr>\n",
       "                <td><strong>Memory address</strong></td>\n",
       "                <td>0x019437290</td>\n",
       "            </tr><tr>\n",
       "                <td><strong>Stoichiometry</strong></td>\n",
       "                <td>\n",
       "                    <p style='text-align:right'>acald_c + h_c + nadh_c --> etoh_c + nad_c</p>\n",
       "                    <p style='text-align:right'>Acetaldehyde + H+ + Nicotinamide adenine dinucleotide - reduced --> Ethanol + Nicotinamide adenine dinucleotide</p>\n",
       "                </td>\n",
       "            </tr><tr>\n",
       "                <td><strong>GPR</strong></td><td>YGL256W or YOL086C or YBR145W</td>\n",
       "            </tr><tr>\n",
       "                <td><strong>Lower bound</strong></td><td>0.0</td>\n",
       "            </tr><tr>\n",
       "                <td><strong>Upper bound</strong></td><td>999999.0</td>\n",
       "            </tr>\n",
       "        </table>\n",
       "        "
      ],
      "text/plain": [
       "<Reaction ALCD2ir at 0x19437290>"
      ]
     },
     "execution_count": 12,
     "metadata": {},
     "output_type": "execute_result"
    }
   ],
   "source": [
    "  model_yeast.reactions.ALCD2ir"
   ]
  }
 ],
 "metadata": {
  "kernelspec": {
   "display_name": "Python 3",
   "language": "python",
   "name": "python3"
  },
  "language_info": {
   "codemirror_mode": {
    "name": "ipython",
    "version": 3
   },
   "file_extension": ".py",
   "mimetype": "text/x-python",
   "name": "python",
   "nbconvert_exporter": "python",
   "pygments_lexer": "ipython3",
   "version": "3.7.4"
  },
  "toc": {
   "base_numbering": 1,
   "nav_menu": {},
   "number_sections": true,
   "sideBar": true,
   "skip_h1_title": false,
   "title_cell": "Table of Contents",
   "title_sidebar": "Contents",
   "toc_cell": false,
   "toc_position": {},
   "toc_section_display": true,
   "toc_window_display": false
  },
  "varInspector": {
   "cols": {
    "lenName": 16,
    "lenType": 16,
    "lenVar": 40
   },
   "kernels_config": {
    "python": {
     "delete_cmd_postfix": "",
     "delete_cmd_prefix": "del ",
     "library": "var_list.py",
     "varRefreshCmd": "print(var_dic_list())"
    },
    "r": {
     "delete_cmd_postfix": ") ",
     "delete_cmd_prefix": "rm(",
     "library": "var_list.r",
     "varRefreshCmd": "cat(var_dic_list()) "
    }
   },
   "types_to_exclude": [
    "module",
    "function",
    "builtin_function_or_method",
    "instance",
    "_Feature"
   ],
   "window_display": false
  }
 },
 "nbformat": 4,
 "nbformat_minor": 2
}
